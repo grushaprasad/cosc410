{
 "cells": [
  {
   "cell_type": "markdown",
   "id": "0c5b5a73-0665-4f5c-a5f6-e4b1954828c8",
   "metadata": {},
   "source": [
    "# Lab 5: Feedforward Neural Network\n",
    "\n",
    "### COSC 410B: Spring 2025, Colgate University\n",
    "\n",
    "Goals for this lab: \n",
    "\n",
    "* Build and train FNN regressors and classifiers\n",
    "* Convince yourself of the arguments we made in class about linear separability  and the benefits of non-linear layers"
   ]
  },
  {
   "cell_type": "markdown",
   "id": "debd0525-58f6-44ab-afec-89c8aa3090ea",
   "metadata": {},
   "source": [
    "## Part 1: Linear separability, XOR, and non-linear activation functions\n",
    "\n",
    "In class I made the following claims: \n",
    "\n",
    "* A single layer perceptron (i.e., a logistic regression model) can never learn the XOR function because the data is not linearly separable.\n",
    "* A feedforward NN with just an additional hidden layer with non-linear activation can learn the XOR function.\n",
    "* A feedforward NN where all the activation functions are linear cannot learn the XOR function if the hidden layer (or layers) have a linear activation function. \n",
    "\n",
    "The goal in this part is for you to convince yourself of these claims. To do this, you will: \n",
    "\n",
    "1. Try to train a single layer perceptron on the XOR task with different hyperparameters and epochs. Based on your experiments, make an argument why you think the model cannot learn the function.\n",
    "\n",
    "2. Build an FNN with an additional hidden layer and a non-linear activation function. You can find documentation about activation functions in Pytorch [here](https://pytorch.org/docs/stable/nn.html#non-linear-activations-weighted-sum-nonlinearity).\n",
    "\n",
    "3. Is there at least one non-linear activation function you find that helps the model learn the task? Are there non-linear activation functions listed in the documentation that do not work? How does the number of epochs and the type of training (batch vs. mini-batch vs. stochastic) impact learning?\n",
    "\n",
    "4. Build a modified version of your FNN with the non-linear activation function removed. Try to train this model with different hyperparameters and epochs. Based on your experiments, make an argument why you think the model cannot learn the function.\n",
    "\n",
    "\n",
    "**Add your model classes to `part1_models.py`. Add as many code or markdown chunks as is helpful**\n",
    "\n",
    "\n"
   ]
  },
  {
   "cell_type": "markdown",
   "id": "f2c001ed-ac49-4f49-99cc-40968003ef03",
   "metadata": {},
   "source": [
    "Before you start answer the following question: \n",
    "\n",
    "For this part, you should *NOT* split your data into train, validation, and test sets. Why? \n",
    "\n",
    "**WRITE YOUR ANSWER HERE**"
   ]
  },
  {
   "cell_type": "code",
   "execution_count": null,
   "id": "9295df62-fc74-41cf-a217-eeeb56af3b6d",
   "metadata": {},
   "outputs": [],
   "source": []
  },
  {
   "cell_type": "markdown",
   "id": "8d09f4dd-46d8-491e-9f74-613335fead48",
   "metadata": {},
   "source": [
    "## Part 2: Modeling student performance with a FNN\n",
    "\n",
    "In this part you will work with the [student performance dataset](https://www.kaggle.com/datasets/lainguyn123/student-performance-factors?resource=download) you worked in in HW1 and train a feedforward network on this task. You should: \n",
    "\n",
    "1. Try at least three different model architectures keeping the input the same\n",
    "2. At least one of the models you try should have two or more layers\n",
    "3. Evaluate the best model on a held out test set\n",
    "4. Compare the model performance with the performance of your KNN models\n",
    "\n",
    "It is also probably going to be helpful for you to play around with things like the number of epochs, learning rate, optimizer etc. \n",
    "\n",
    "**Add your model classes to `part2_models.py`**"
   ]
  },
  {
   "cell_type": "code",
   "execution_count": null,
   "id": "05db5483-1979-40dc-874a-1327789a1ef5",
   "metadata": {},
   "outputs": [],
   "source": []
  }
 ],
 "metadata": {
  "kernelspec": {
   "display_name": "cosc410",
   "language": "python",
   "name": "cosc410"
  },
  "language_info": {
   "codemirror_mode": {
    "name": "ipython",
    "version": 3
   },
   "file_extension": ".py",
   "mimetype": "text/x-python",
   "name": "python",
   "nbconvert_exporter": "python",
   "pygments_lexer": "ipython3",
   "version": "3.10.16"
  }
 },
 "nbformat": 4,
 "nbformat_minor": 5
}
