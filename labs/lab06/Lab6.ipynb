{
 "cells": [
  {
   "cell_type": "markdown",
   "id": "8c437fd6-4a7d-4dfe-bb06-ea68f86effcc",
   "metadata": {},
   "source": [
    "# Lab 6: RNN Language Models\n",
    "\n",
    "### COSC 410B: Spring 2025, Colgate University\n",
    "\n",
    "#### Goals for this lab:\n",
    "* Familiarize yourself with pytorch's [Dataset](https://pytorch.org/docs/stable/data.html#torch.utils.data.Dataset) and [DataLoader](https://pytorch.org/docs/stable/data.html#torch.utils.data.DataLoader)\n",
    "* Build and train an RNN decoder\n",
    "\n",
    "#### Some general tips\n",
    "\n",
    "When working with NNs, and your model is performing poorly it can be (at least) one of two reasons: \n",
    "\n",
    "1. Your code is wrong\n",
    "2. The specific hyperparameters are not appropriate for the task\n",
    "3. The task is really hard and might be infeasible with the kind of model you are using\n",
    "\n",
    "Before you conclude that 3 is true, you need to elimiate 1 and 2. For 1, you can try training your model on really simple data that you know it should be able to learn. For 2, it can be helpful to look at the learning dynamics -- i.e., how is loss on the train and/or validation set changing over epochs for different hyperparameter values. It can also be beneficial to try a few different values for all the hyperparameters before deep diving into one of them. "
   ]
  },
  {
   "cell_type": "markdown",
   "id": "81d3244d-a6f5-49cf-a7d3-5e8172c2fff3",
   "metadata": {},
   "source": [
    "## Part 1: Load the dataset\n",
    "\n",
    "In `LM_Dataset.py`, implement the following incomplete functions: `make_mapping`, `encode`, `decode`.\n",
    "\n",
    "Additionally, asnwer the following questions: \n",
    "1. What is getting initialized as `X` and `Y`? Why does this make sense \n",
    "2. What does `__getitem__` return?"
   ]
  },
  {
   "cell_type": "markdown",
   "id": "825ce4b4-e334-42e7-ab8e-e5bb609ab7da",
   "metadata": {},
   "source": [
    "**WRITE YOUR ANSWERS HERE**"
   ]
  },
  {
   "cell_type": "markdown",
   "id": "a73aa5a0-a454-4540-afe2-fc71fe2456df",
   "metadata": {},
   "source": [
    "## Part 2: Build an RNN decoder\n",
    "\n",
    "The `RNN.py` file has a partially implemented RNN decoder. Finish implementing the `__init__` and `forward`. \n",
    "\n",
    "Additionally, answer the following question: Why do we need a `init_hidden` method?\n"
   ]
  },
  {
   "cell_type": "markdown",
   "id": "67c1862d-b120-40e9-8d28-1fa95bd7e275",
   "metadata": {},
   "source": [
    "**WRITE YOUR ANSWER HERE**"
   ]
  },
  {
   "cell_type": "markdown",
   "id": "44f9e799-c936-48c0-82d7-12529b690212",
   "metadata": {},
   "source": [
    "## Part 3: Implement functions in `util.py`\n",
    "\n",
    "Implement `batch_train` and `compute_loss`. "
   ]
  },
  {
   "cell_type": "markdown",
   "id": "dd831139-ab44-4ae2-b536-efb7bf5b71af",
   "metadata": {},
   "source": [
    "## Part 4: Train an RNN model\n",
    "\n",
    "Train and evaluate an RNN Decoder model which has: \n",
    "* Word embedding of size 10\n",
    "* 2 hidden layers\n",
    "* 100 hidden units per layer\n",
    "\n",
    "Use data from `train.txt`, `val.txt` and `test.txt`"
   ]
  },
  {
   "cell_type": "markdown",
   "id": "f224b9ab-e7f5-45f0-b80a-2c1e113c2f2b",
   "metadata": {},
   "source": [
    "## Part 5: Reflection on how to use RNNs for other tasks\n",
    "\n",
    "What parts of your code would you need to modify if you wanted to build an RNN that does: \n",
    "\n",
    "1. Part of speech tagging\n",
    "2. Sentiment classification "
   ]
  },
  {
   "cell_type": "markdown",
   "id": "3ce08faa-ba67-44b1-9303-3350b96e68ae",
   "metadata": {},
   "source": [
    "**WRITE YOUR ANSWER HERE**"
   ]
  }
 ],
 "metadata": {
  "kernelspec": {
   "display_name": "cosc410",
   "language": "python",
   "name": "cosc410"
  },
  "language_info": {
   "codemirror_mode": {
    "name": "ipython",
    "version": 3
   },
   "file_extension": ".py",
   "mimetype": "text/x-python",
   "name": "python",
   "nbconvert_exporter": "python",
   "pygments_lexer": "ipython3",
   "version": "3.10.16"
  }
 },
 "nbformat": 4,
 "nbformat_minor": 5
}
