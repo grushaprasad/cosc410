{
 "cells": [
  {
   "cell_type": "markdown",
   "id": "cfeb7ddb-097b-4090-acfc-a17c1267470d",
   "metadata": {},
   "source": [
    "# Lab 4: Data exploration and hypothesis generation/testing\n",
    "### COSC 410B: Spring 2025, Colgate University\n",
    "\n",
    "The goal of this lab is to strengthen your ability to find answers to concrete questions from a given dataset. Concretely, you will be working with the [Energy Efficiency Dataset](https://www.kaggle.com/datasets/elikplim/eergy-efficiency-dataset) dataset from Kaggle. This data has already been downloaded for you and included in the starter folder. This is an important skill as you start thinking about your final projects. \n",
    "\n",
    "Here are some learning objectives for this lab:\n",
    "\n",
    "1. Given a broad question/task and dataset, operationalize the question in terms of the data you have available. \n",
    "2. Identify what models are appropriate for the task, fit the model and interpret the learned parameters. \n",
    "3. Use the learned parameters to come up with an answer to the original question (or justify why it is not possible to come up with a clear answer)\n",
    "\n",
    "## Task\n",
    "\n",
    "Imagine you are working as a data science intern for a construction company. They ask you to come up with a proposal for how to make their buildings more energy efficient. Concretely, they care about decreasing heating and/or cooling load (i.e., the amount of heat/cool energy to maintain a desired set temperature). \n",
    "\n",
    "In this proposal they want you to include a list of design decisions they should consider, ranked by how likely each of the decisions is for improving energy efficiency.  Your task in this homework is to use this dataset and come up with a proposal for them. "
   ]
  },
  {
   "cell_type": "markdown",
   "id": "aefe3c0f-1da0-43a5-85c7-ec1202a1e8ab",
   "metadata": {},
   "source": [
    "## Part 1: Data description and preprocessing\n",
    "\n",
    "In this section load your data, explore it, split it and transform it in any way you think is appropriate. Justify your decisions."
   ]
  },
  {
   "cell_type": "markdown",
   "id": "ddcc884c-1ae7-4dff-8160-d2329704a6de",
   "metadata": {},
   "source": [
    "## Part 2: Operationalization and hypothesis generation\n",
    "\n",
    "In this section, define how you will measure improvement in energy efficiecy and generate a hypothesis (or few) about what design decisions might improve it. "
   ]
  },
  {
   "cell_type": "markdown",
   "id": "6c6991e9-3697-4ca2-a888-a028fedde96e",
   "metadata": {},
   "source": [
    "## Part 3: Model training and evaluation\n",
    "\n",
    "In this section train models to test your hypotheses and evaluate them. "
   ]
  },
  {
   "cell_type": "markdown",
   "id": "39979a9b-139a-4cec-bb44-540c6f28bd29",
   "metadata": {},
   "source": [
    "## Part 4: Proposal\n",
    "\n",
    "Given your exploration, come up with a proposal which includes a ranked list of design decisions that are likely to improve energy efficinecy. Make sure your proposal is convincing (i.e., your arguments are backed by some concrete results). "
   ]
  },
  {
   "cell_type": "code",
   "execution_count": null,
   "id": "ff8e56f3-48ae-45d8-9936-b9bb30f22ad7",
   "metadata": {},
   "outputs": [],
   "source": []
  }
 ],
 "metadata": {
  "kernelspec": {
   "display_name": "Python 3 (ipykernel)",
   "language": "python",
   "name": "python3"
  },
  "language_info": {
   "codemirror_mode": {
    "name": "ipython",
    "version": 3
   },
   "file_extension": ".py",
   "mimetype": "text/x-python",
   "name": "python",
   "nbconvert_exporter": "python",
   "pygments_lexer": "ipython3",
   "version": "3.9.18"
  }
 },
 "nbformat": 4,
 "nbformat_minor": 5
}
