{
 "cells": [
  {
   "cell_type": "markdown",
   "id": "54d75f0c-a381-4b11-97c6-61822e7f104c",
   "metadata": {},
   "source": [
    "# Lab 3: Pytorch and Linear Regression\n",
    "\n",
    "### COSC 410B: Spring 2025, Colgate University\n",
    "\n",
    "**Goals for this lab:** \n",
    "\n",
    "* Familiarize yourself with pytorch\n",
    "* Describe the steps involved in initializing and training neural network model using `torch.nn` module\n",
    "* Implement training with mini-batch gradient descent \n",
    "* Evaluate model's learned parameters under different training processes\n",
    "\n",
    "*Parts of this lab were adapted from Prof. Forrest Davis' materials*"
   ]
  },
  {
   "cell_type": "markdown",
   "id": "d36362d0-293c-4b67-9e33-990ec6d0628c",
   "metadata": {},
   "source": [
    "## Part 1: Familiarize yourself with Pytorch\n"
   ]
  },
  {
   "cell_type": "code",
   "execution_count": 5,
   "id": "ab6ff5fe-eaaa-4235-b82c-53752f88b08c",
   "metadata": {},
   "outputs": [],
   "source": [
    "import torch\n",
    "\n",
    "a = torch.tensor([10.1,20.2,30.3,40.4])\n",
    "b = torch.arange(4, dtype=torch.float64)\n"
   ]
  },
  {
   "cell_type": "markdown",
   "id": "e8696d61-37c6-4aaf-a6e0-d359f0cbfc5c",
   "metadata": {},
   "source": [
    "#### Write code to perform the following computations\n",
    "\n",
    "1. Add a and b together element-wise\n",
    "2. Multiply all of the values `a` by `5`\n",
    "3. Subtract `1` from all the elements from `b`\n",
    "4. Reshape b to be a 2d matrix of the format: `[[0., 1.], [2.,3.]].` \n",
    "5. Reshape b to be a 2d matrix of the format: `[[0.], [1.], [2.],[3.]].` and use indexing to access the last two rows of this matrix (i.e., `[[2.],[3.]`])"
   ]
  },
  {
   "cell_type": "code",
   "execution_count": 16,
   "id": "52c7ad7b-654d-4c75-92ac-f5cfbe4005b8",
   "metadata": {},
   "outputs": [
    {
     "data": {
      "text/plain": [
       "tensor([[2.],\n",
       "        [3.]], dtype=torch.float64)"
      ]
     },
     "execution_count": 16,
     "metadata": {},
     "output_type": "execute_result"
    }
   ],
   "source": [
    "## Write your code here\n",
    "b.reshape(-1,1)[2:]"
   ]
  },
  {
   "cell_type": "code",
   "execution_count": 30,
   "id": "835dd013-e215-4e65-b22b-0edd54193efd",
   "metadata": {},
   "outputs": [],
   "source": [
    "c = torch.randn(2, 4, dtype=torch.float64)\n",
    "d = torch.randn(4, 1, dtype=torch.float64)"
   ]
  },
  {
   "cell_type": "markdown",
   "id": "e4c83de5-1f67-444d-9d8e-bc85fb74b43b",
   "metadata": {},
   "source": [
    "#### Write code to perform the following computations\n",
    "\n",
    "1. Print the dimensions of `c` and `d`\n",
    "2. Multiply matrices `c` and `d` together. \n",
    "3. Multiply matrix `c` with vector `b`"
   ]
  },
  {
   "cell_type": "markdown",
   "id": "a75124c9-93ad-476c-81ec-9808430243d4",
   "metadata": {},
   "source": [
    "## Part 2: Implement the LinearRegression model\n",
    "\n",
    "We will use the pytorch's base `nn.module` to implement the linear regression model. The skeleton of this model is provided in `LinearRegression.py`. Your task is to \n",
    "\n",
    "1. Briefly explain what needs to happen in each of the components of the model -- i.e., `init`, `forward` and `loss`. (add a markdown cell for this)  \n",
    "2. Implement these three components.\n",
    "\n",
    "**Get feedback before moving on to the next part!**"
   ]
  },
  {
   "cell_type": "markdown",
   "id": "553a9bd0-17f6-41ce-baf3-5ea724d1a3a8",
   "metadata": {},
   "source": [
    "## Part 3: Implement data initialization and training\n",
    "\n",
    "For this part, you will work with `util.py`. This file has three functions: `train`, `train_batched` and `create_regression_data`. \n",
    "\n",
    "1. Add comments to the `train` function explaining what it is doing. In your answer also indicate if this function is implementing *batch* or *stochastic* gradient descent. Explain why. \n",
    "\n",
    "2. Implement `train_batched` which will run *mini-batch* gradient descent.\n",
    "\n",
    "3. Implement `create_regression_data` which takes as its input a regression model (as specified by weights and a bias term), and generates regression data from random inputs."
   ]
  },
  {
   "cell_type": "markdown",
   "id": "e42104dd-74b7-4211-ad96-9af47f7e3cbb",
   "metadata": {},
   "source": [
    "## Part 4: Train a model using `train` and evaluate it\n",
    "\n",
    "Add code below to train a model using the provided `train` function. Answer the following questions: \n",
    "\n",
    "1. How well does the model estimate the true weights and bias terms?\n",
    "2. How well does the model's *predictions* on the training data match the gold values?\n",
    "3. How well does the model's *predictions* on unseen data from the same distribution match the gold values? (*Hint: think about how you might acquire this unseen data*)\n",
    "\n"
   ]
  },
  {
   "cell_type": "code",
   "execution_count": 35,
   "id": "a9cc9c43-c553-4f41-94e2-464cd37cee71",
   "metadata": {},
   "outputs": [],
   "source": [
    "from LinearRegression import LinearRegression\n",
    "import util"
   ]
  },
  {
   "cell_type": "markdown",
   "id": "8f117b03-7083-45f1-a95c-395fbd3a4493",
   "metadata": {},
   "source": [
    "## Part 5: Train a model using `train_batched` and evaluate it\n",
    "\n",
    "Add code below to train a model using the  `train_batched` function you wrote. Answer the following questions: \n",
    "\n",
    "1. How well does the model estimate the true weights and bias terms?\n",
    "2. How well does the model's *predictions* on the training data match the gold values?\n",
    "3. How well does the model's *predictions* on unseen data from the same distribution match the gold values? (*Hint: think about how you might acquire this unseen data*)"
   ]
  },
  {
   "cell_type": "code",
   "execution_count": null,
   "id": "6b04f562-e5f7-4552-9b9f-d7cd8a21b664",
   "metadata": {},
   "outputs": [],
   "source": []
  }
 ],
 "metadata": {
  "kernelspec": {
   "display_name": "cosc410",
   "language": "python",
   "name": "cosc410"
  },
  "language_info": {
   "codemirror_mode": {
    "name": "ipython",
    "version": 3
   },
   "file_extension": ".py",
   "mimetype": "text/x-python",
   "name": "python",
   "nbconvert_exporter": "python",
   "pygments_lexer": "ipython3",
   "version": "3.10.16"
  }
 },
 "nbformat": 4,
 "nbformat_minor": 5
}
